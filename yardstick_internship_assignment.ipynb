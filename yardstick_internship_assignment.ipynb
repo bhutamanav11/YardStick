{
  "nbformat": 4,
  "nbformat_minor": 0,
  "metadata": {
    "colab": {
      "provenance": [],
      "authorship_tag": "ABX9TyNVGC5fQlDLbI4FmxM2RlFP",
      "include_colab_link": true
    },
    "kernelspec": {
      "name": "python3",
      "display_name": "Python 3"
    },
    "language_info": {
      "name": "python"
    }
  },
  "cells": [
    {
      "cell_type": "markdown",
      "metadata": {
        "id": "view-in-github",
        "colab_type": "text"
      },
      "source": [
        "<a href=\"https://colab.research.google.com/github/bhutamanav11/YardStick/blob/main/yardstick_internship_assignment.ipynb\" target=\"_parent\"><img src=\"https://colab.research.google.com/assets/colab-badge.svg\" alt=\"Open In Colab\"/></a>"
      ]
    },
    {
      "cell_type": "code",
      "source": [
        "!pip install --quiet --upgrade openai\n"
      ],
      "metadata": {
        "id": "VtnPEZYGMP48"
      },
      "execution_count": null,
      "outputs": []
    },
    {
      "cell_type": "code",
      "source": [
        "!pip install --quiet --upgrade gitpython"
      ],
      "metadata": {
        "id": "3A71qBduMbga"
      },
      "execution_count": null,
      "outputs": []
    },
    {
      "cell_type": "code",
      "source": [
        "from openai import OpenAI\n",
        "\n",
        "from google.colab import userdata\n",
        "userdata.get('GROQ_API_KEY')\n",
        "# Create the client (must use Groq base_url)\n",
        "client = OpenAI(api_key=os.environ[\"GROQ_API_KEY\"],\n",
        "                base_url=\"https://api.groq.com/openai/v1\")  # Groq OpenAI-compatible base URL. :contentReference[oaicite:4]{index=4}\n",
        "print(\"Client created.\")\n"
      ],
      "metadata": {
        "colab": {
          "base_uri": "https://localhost:8080/"
        },
        "id": "yEpdp_FyMgNn",
        "outputId": "cade57cf-c39d-4aaf-b889-97de068101be"
      },
      "execution_count": null,
      "outputs": [
        {
          "output_type": "stream",
          "name": "stdout",
          "text": [
            "Client created.\n"
          ]
        }
      ]
    },
    {
      "cell_type": "code",
      "source": [
        "# List available models so you can pick a supported one.\n",
        "try:\n",
        "    resp = client.models.list()\n",
        "    models = [m.id for m in resp.data]\n",
        "    print(\"Available models (sample):\", models[:20])\n",
        "except Exception as e:\n",
        "    print(\"Error listing models:\", e)\n",
        "    raise\n"
      ],
      "metadata": {
        "colab": {
          "base_uri": "https://localhost:8080/"
        },
        "id": "YnZhOiGQMmIu",
        "outputId": "831e38cf-b2e0-40d6-8381-f33e36b3f073"
      },
      "execution_count": null,
      "outputs": [
        {
          "output_type": "stream",
          "name": "stdout",
          "text": [
            "Available models (sample): ['whisper-large-v3-turbo', 'deepseek-r1-distill-llama-70b', 'moonshotai/kimi-k2-instruct-0905', 'llama-3.3-70b-versatile', 'groq/compound', 'meta-llama/llama-prompt-guard-2-22m', 'allam-2-7b', 'meta-llama/llama-prompt-guard-2-86m', 'moonshotai/kimi-k2-instruct', 'openai/gpt-oss-120b', 'playai-tts-arabic', 'llama-3.1-8b-instant', 'groq/compound-mini', 'meta-llama/llama-4-scout-17b-16e-instruct', 'openai/gpt-oss-20b', 'meta-llama/llama-4-maverick-17b-128e-instruct', 'gemma2-9b-it', 'whisper-large-v3', 'qwen/qwen3-32b', 'meta-llama/llama-guard-4-12b']\n"
          ]
        }
      ]
    },
    {
      "cell_type": "code",
      "source": [
        "# Example conversation list (store/manage chats as a list of dicts)\n",
        "conversations = [\n",
        "    {\"role\": \"user\", \"content\": \"Hi, I need help finishing my internship assignment.\"},\n",
        "    {\"role\": \"assistant\", \"content\": \"Sure — what part are you stuck on?\"},\n",
        "    {\"role\": \"user\", \"content\": \"I need to summarize chats and classify intent and extract structured details.\"},\n",
        "    {\"role\": \"user\", \"content\": \"Deadline is next Friday and my email is student@example.com.\"}\n",
        "]\n",
        "\n",
        "# Persist to local file (optional)\n",
        "import json\n",
        "with open(\"conversations.json\",\"w\") as f:\n",
        "    json.dump(conversations, f, indent=2)\n",
        "print(\"Saved conversations.json\")\n"
      ],
      "metadata": {
        "colab": {
          "base_uri": "https://localhost:8080/"
        },
        "id": "3iveIuhyMsCg",
        "outputId": "b8217777-4470-4c89-b24b-eadd4c22865b"
      },
      "execution_count": null,
      "outputs": [
        {
          "output_type": "stream",
          "name": "stdout",
          "text": [
            "Saved conversations.json\n"
          ]
        }
      ]
    },
    {
      "cell_type": "code",
      "source": [
        "MODEL_ID = \"llama-3.3-70b-versatile\"\n",
        "\n",
        "# Build messages: system instruction + conversation history\n",
        "system_msg = {\"role\":\"system\",\"content\":\"You are a concise summarizer. Produce a short summary (3 bullets max).\"}\n",
        "msgs = [system_msg] + conversations\n",
        "\n",
        "try:\n",
        "    res = client.chat.completions.create(\n",
        "        model=MODEL_ID,\n",
        "        messages=msgs,\n",
        "        temperature=0.0,\n",
        "        max_tokens=256\n",
        "    )\n",
        "    summary = res.choices[0].message.content.strip()\n",
        "    print(\"=== SUMMARY ===\\n\", summary)\n",
        "except Exception as e:\n",
        "    print(\"Summarization error:\", e)\n",
        "    raise\n"
      ],
      "metadata": {
        "colab": {
          "base_uri": "https://localhost:8080/"
        },
        "id": "eaQu3WG2Mvyf",
        "outputId": "1eb0558c-c368-41b7-96c2-4bb9debf0f15"
      },
      "execution_count": null,
      "outputs": [
        {
          "output_type": "stream",
          "name": "stdout",
          "text": [
            "=== SUMMARY ===\n",
            " Here's a summary to help you get started:\n",
            "* You need help with an internship assignment involving chat summaries.\n",
            "* The tasks include classifying intent and extracting structured details from chats.\n",
            "* Your deadline is next Friday, and I can follow up with you at student@example.com if needed.\n"
          ]
        }
      ]
    },
    {
      "cell_type": "code",
      "source": [
        "import re, json\n",
        "\n",
        "# 1) Build the user-only prompt\n",
        "user_msgs = [m[\"content\"] for m in conversations if m[\"role\"] == \"user\"]\n",
        "prompt_text = \"\\n\".join(f\"{i+1}. {t}\" for i,t in enumerate(user_msgs))\n",
        "\n",
        "system_instructions = \"\"\"\n",
        "You are a strict JSON-only extractor. For each user message (provided), return a JSON object:\n",
        "{\n",
        "  \"items\": [\n",
        "    {\n",
        "      \"index\": <1-based index>,\n",
        "      \"text\": \"<original message>\",\n",
        "      \"intent\": \"<short label: greeting|request|info|deadline|other>\",\n",
        "      \"sentiment\": \"<positive|neutral|negative>\",\n",
        "      \"entities\": {\n",
        "         \"emails\": [\"...\"],\n",
        "         \"dates\": [\"...\"],\n",
        "         \"phones\": [\"...\"],\n",
        "         \"deadlines\": [\"...\"]\n",
        "      }\n",
        "    }, ...\n",
        "  ]\n",
        "}\n",
        "Return ONLY the JSON. No extra text.\n",
        "\"\"\"\n",
        "\n",
        "msgs2 = [{\"role\":\"system\",\"content\":system_instructions},\n",
        "         {\"role\":\"user\",\"content\":prompt_text}]\n",
        "\n",
        "try:\n",
        "    resp2 = client.chat.completions.create(\n",
        "        model=MODEL_ID,\n",
        "        messages=msgs2,\n",
        "        temperature=0.0,\n",
        "        max_tokens=512\n",
        "    )\n",
        "    raw = resp2.choices[0].message.content.strip()\n",
        "    # extract JSON block\n",
        "    m = re.search(r'(\\{.*\\}|\\[.*\\])', raw, re.S)\n",
        "    if not m:\n",
        "        raise ValueError(\"No JSON found in model response:\\n\" + raw)\n",
        "    json_text = m.group(1)\n",
        "    data = json.loads(json_text)\n",
        "    print(\"=== CLASSIFICATION/EXTRACTION ===\")\n",
        "    print(json.dumps(data, indent=2))\n",
        "except Exception as e:\n",
        "    print(\"Classification/extraction error:\", e)\n",
        "    print(\"Raw model output:\\n\", raw if 'raw' in locals() else \"no raw\")\n",
        "    raise\n"
      ],
      "metadata": {
        "colab": {
          "base_uri": "https://localhost:8080/"
        },
        "id": "b8qOb75BOQcu",
        "outputId": "1d1c5487-0b51-40b5-8f3d-80a7a1e6e9d0"
      },
      "execution_count": null,
      "outputs": [
        {
          "output_type": "stream",
          "name": "stdout",
          "text": [
            "=== CLASSIFICATION/EXTRACTION ===\n",
            "{\n",
            "  \"items\": [\n",
            "    {\n",
            "      \"index\": 1,\n",
            "      \"text\": \"Hi, I need help finishing my internship assignment.\",\n",
            "      \"intent\": \"request\",\n",
            "      \"sentiment\": \"neutral\",\n",
            "      \"entities\": {\n",
            "        \"emails\": [],\n",
            "        \"dates\": [],\n",
            "        \"phones\": [],\n",
            "        \"deadlines\": []\n",
            "      }\n",
            "    },\n",
            "    {\n",
            "      \"index\": 2,\n",
            "      \"text\": \"I need to summarize chats and classify intent and extract structured details.\",\n",
            "      \"intent\": \"info\",\n",
            "      \"sentiment\": \"neutral\",\n",
            "      \"entities\": {\n",
            "        \"emails\": [],\n",
            "        \"dates\": [],\n",
            "        \"phones\": [],\n",
            "        \"deadlines\": []\n",
            "      }\n",
            "    },\n",
            "    {\n",
            "      \"index\": 3,\n",
            "      \"text\": \"Deadline is next Friday and my email is student@example.com.\",\n",
            "      \"intent\": \"deadline\",\n",
            "      \"sentiment\": \"neutral\",\n",
            "      \"entities\": {\n",
            "        \"emails\": [\n",
            "          \"student@example.com\"\n",
            "        ],\n",
            "        \"dates\": [\n",
            "          \"next Friday\"\n",
            "        ],\n",
            "        \"phones\": [],\n",
            "        \"deadlines\": [\n",
            "          \"next Friday\"\n",
            "        ]\n",
            "      }\n",
            "    }\n",
            "  ]\n",
            "}\n"
          ]
        }
      ]
    },
    {
      "cell_type": "code",
      "source": [
        "with open(\"summary.txt\",\"w\") as f:\n",
        "    f.write(summary+\"\\n\")\n",
        "\n",
        "with open(\"classification.json\",\"w\") as f:\n",
        "    json.dump(data, f, indent=2)\n",
        "\n",
        "print(\"Saved summary.txt and classification.json\")\n"
      ],
      "metadata": {
        "colab": {
          "base_uri": "https://localhost:8080/"
        },
        "id": "hYcLf7lROXll",
        "outputId": "c35a2abb-94d7-4ad8-d973-c5d2ea44fd8b"
      },
      "execution_count": null,
      "outputs": [
        {
          "output_type": "stream",
          "name": "stdout",
          "text": [
            "Saved summary.txt and classification.json\n"
          ]
        }
      ]
    }
  ]
}